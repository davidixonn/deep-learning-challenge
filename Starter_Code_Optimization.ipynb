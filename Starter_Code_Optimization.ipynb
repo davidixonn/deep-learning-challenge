{
 "cells": [
  {
   "cell_type": "code",
   "execution_count": 1,
   "id": "72e5f5b9",
   "metadata": {},
   "outputs": [
    {
     "name": "stderr",
     "output_type": "stream",
     "text": [
      "2023-04-03 20:00:23.507220: I tensorflow/core/platform/cpu_feature_guard.cc:182] This TensorFlow binary is optimized to use available CPU instructions in performance-critical operations.\n",
      "To enable the following instructions: AVX2 FMA, in other operations, rebuild TensorFlow with the appropriate compiler flags.\n"
     ]
    }
   ],
   "source": [
    "# Import our dependencies\n",
    "from sklearn.model_selection import train_test_split\n",
    "from sklearn.preprocessing import StandardScaler\n",
    "import pandas as pd\n",
    "import tensorflow as tf\n",
    "from pathlib import Path"
   ]
  },
  {
   "cell_type": "code",
   "execution_count": 2,
   "id": "72e76762",
   "metadata": {},
   "outputs": [],
   "source": [
    "#  Import and read the charity_data.csv.\n",
    "df = pd.read_csv(\n",
    "    Path(\"Resources/charity_data.csv\")\n",
    ")"
   ]
  },
  {
   "cell_type": "code",
   "execution_count": 3,
   "id": "a6ebdd80",
   "metadata": {},
   "outputs": [
    {
     "name": "stderr",
     "output_type": "stream",
     "text": [
      "/var/folders/qv/x2nm4qw952vblh6vpcr_nnzc0000gn/T/ipykernel_92076/264736839.py:2: FutureWarning: In a future version of pandas all arguments of DataFrame.drop except for the argument 'labels' will be keyword-only.\n",
      "  df = df.drop([\"EIN\"],1)\n"
     ]
    }
   ],
   "source": [
    "# Drop the non-beneficial ID columns, 'EIN' and 'NAME'.\n",
    "df = df.drop([\"EIN\"],1)"
   ]
  },
  {
   "cell_type": "code",
   "execution_count": 4,
   "id": "45be4a91",
   "metadata": {},
   "outputs": [
    {
     "data": {
      "text/plain": [
       "NAME                      19568\n",
       "APPLICATION_TYPE             17\n",
       "AFFILIATION                   6\n",
       "CLASSIFICATION               71\n",
       "USE_CASE                      5\n",
       "ORGANIZATION                  4\n",
       "STATUS                        2\n",
       "INCOME_AMT                    9\n",
       "SPECIAL_CONSIDERATIONS        2\n",
       "ASK_AMT                    8747\n",
       "IS_SUCCESSFUL                 2\n",
       "dtype: int64"
      ]
     },
     "execution_count": 4,
     "metadata": {},
     "output_type": "execute_result"
    }
   ],
   "source": [
    "# Determine the number of unique values in each column.\n",
    "df.nunique()"
   ]
  },
  {
   "cell_type": "code",
   "execution_count": 5,
   "id": "6da37c2e",
   "metadata": {},
   "outputs": [],
   "source": [
    "counts = df['NAME'].value_counts()"
   ]
  },
  {
   "cell_type": "code",
   "execution_count": 6,
   "id": "c2c0f09e",
   "metadata": {},
   "outputs": [
    {
     "data": {
      "text/plain": [
       "PARENT BOOSTER USA INC                             1260\n",
       "TOPS CLUB INC                                       765\n",
       "UNITED STATES BOWLING CONGRESS INC                  700\n",
       "WASHINGTON STATE UNIVERSITY                         492\n",
       "AMATEUR ATHLETIC UNION OF THE UNITED STATES INC     408\n",
       "                                                   ... \n",
       "OLD OAK CLIFF CONSERVATION LEAGUE INC                 6\n",
       "AMERICAN NEPHROLOGY NURSES ASSOCIATION                6\n",
       "HUMBLE ISD EDUCATIONAL SUPPORT GROUPS INC             6\n",
       "PROFESSIONAL LOADMASTER ASSOCIATION                   6\n",
       "CBMC INC                                              6\n",
       "Name: NAME, Length: 354, dtype: int64"
      ]
     },
     "execution_count": 6,
     "metadata": {},
     "output_type": "execute_result"
    }
   ],
   "source": [
    "counts[counts>5]"
   ]
  },
  {
   "cell_type": "code",
   "execution_count": 7,
   "id": "98da4516",
   "metadata": {},
   "outputs": [
    {
     "data": {
      "text/plain": [
       "Other                                           20043\n",
       "PARENT BOOSTER USA INC                           1260\n",
       "TOPS CLUB INC                                     765\n",
       "UNITED STATES BOWLING CONGRESS INC                700\n",
       "WASHINGTON STATE UNIVERSITY                       492\n",
       "                                                ...  \n",
       "HABITAT FOR HUMANITY INTERNATIONAL                  6\n",
       "DAMAGE PREVENTION COUNCIL OF TEXAS                  6\n",
       "FLEET RESERVE ASSOCIATION                           6\n",
       "HUGH OBRIAN YOUTH LEADERSHIP                        6\n",
       "INTERNATIONAL CONGRESS OF CHURCHES MINISTERS        6\n",
       "Name: NAME, Length: 355, dtype: int64"
      ]
     },
     "execution_count": 7,
     "metadata": {},
     "output_type": "execute_result"
    }
   ],
   "source": [
    "replace = list(counts[counts <= 5].index)\n",
    "\n",
    "# Replace in dataframe\n",
    "for app in replace:\n",
    "    df['NAME'] = df['NAME'].replace(app,\"Other\")\n",
    "    \n",
    "# Check to make sure binning was successful\n",
    "df['NAME'].value_counts()"
   ]
  },
  {
   "cell_type": "code",
   "execution_count": 8,
   "id": "01a4440a",
   "metadata": {},
   "outputs": [
    {
     "data": {
      "text/plain": [
       "T3     27037\n",
       "T4      1542\n",
       "T6      1216\n",
       "T5      1173\n",
       "T19     1065\n",
       "T8       737\n",
       "T7       725\n",
       "T10      528\n",
       "T9       156\n",
       "T13       66\n",
       "T12       27\n",
       "T2        16\n",
       "T25        3\n",
       "T14        3\n",
       "T29        2\n",
       "T15        2\n",
       "T17        1\n",
       "Name: APPLICATION_TYPE, dtype: int64"
      ]
     },
     "execution_count": 8,
     "metadata": {},
     "output_type": "execute_result"
    }
   ],
   "source": [
    " # Look at APPLICATION_TYPE value counts for binning\n",
    "app_counts = df['APPLICATION_TYPE'].value_counts()\n",
    "app_counts"
   ]
  },
  {
   "cell_type": "code",
   "execution_count": 9,
   "id": "641a7aa7",
   "metadata": {},
   "outputs": [
    {
     "data": {
      "text/plain": [
       "T3       27037\n",
       "T4        1542\n",
       "T6        1216\n",
       "T5        1173\n",
       "T19       1065\n",
       "T8         737\n",
       "T7         725\n",
       "T10        528\n",
       "Other      276\n",
       "Name: APPLICATION_TYPE, dtype: int64"
      ]
     },
     "execution_count": 9,
     "metadata": {},
     "output_type": "execute_result"
    }
   ],
   "source": [
    " app_types_to_replace = list(app_counts[app_counts < 500].index)\n",
    "\n",
    "# Replace in dataframe\n",
    "for app in app_types_to_replace:\n",
    "    df['APPLICATION_TYPE'] = df['APPLICATION_TYPE'].replace(app,\"Other\")\n",
    "\n",
    "# Check to make sure binning was successful\n",
    "df['APPLICATION_TYPE'].value_counts()"
   ]
  },
  {
   "cell_type": "code",
   "execution_count": 10,
   "id": "97cda3f8",
   "metadata": {},
   "outputs": [
    {
     "data": {
      "text/plain": [
       "C1000    17326\n",
       "C2000     6074\n",
       "C1200     4837\n",
       "C3000     1918\n",
       "C2100     1883\n",
       "         ...  \n",
       "C4120        1\n",
       "C8210        1\n",
       "C2561        1\n",
       "C4500        1\n",
       "C2150        1\n",
       "Name: CLASSIFICATION, Length: 71, dtype: int64"
      ]
     },
     "execution_count": 10,
     "metadata": {},
     "output_type": "execute_result"
    }
   ],
   "source": [
    "class_counts = df['CLASSIFICATION'].value_counts()\n",
    "class_counts"
   ]
  },
  {
   "cell_type": "code",
   "execution_count": 12,
   "id": "e9f094fe",
   "metadata": {},
   "outputs": [
    {
     "data": {
      "text/plain": [
       "C1000    17326\n",
       "C2000     6074\n",
       "C1200     4837\n",
       "Other     2261\n",
       "C3000     1918\n",
       "C2100     1883\n",
       "Name: CLASSIFICATION, dtype: int64"
      ]
     },
     "execution_count": 12,
     "metadata": {},
     "output_type": "execute_result"
    }
   ],
   "source": [
    "replace = list(class_counts[class_counts < 1000].index)\n",
    "\n",
    "# Replace in dataframe\n",
    "for cls in replace:\n",
    "    df['CLASSIFICATION'] = df['CLASSIFICATION'].replace(cls,\"Other\")\n",
    "    \n",
    "# Check to make sure binning was successful\n",
    "df['CLASSIFICATION'].value_counts()"
   ]
  },
  {
   "cell_type": "code",
   "execution_count": 13,
   "id": "1062c8f6",
   "metadata": {},
   "outputs": [],
   "source": [
    "# Generate our categorical variable lists\n",
    "app_categories = df.dtypes[df.dtypes == \"object\"].index.tolist()"
   ]
  },
  {
   "cell_type": "code",
   "execution_count": 14,
   "id": "7e614f1e",
   "metadata": {},
   "outputs": [],
   "source": [
    "app_with_dummies_df = pd.get_dummies(df)"
   ]
  },
  {
   "cell_type": "code",
   "execution_count": 15,
   "id": "b384bf15",
   "metadata": {},
   "outputs": [],
   "source": [
    " # Split preprocessed data into features and target arrays\n",
    "X = app_with_dummies_df.drop([\"IS_SUCCESSFUL\"], axis='columns').values\n",
    "y = app_with_dummies_df[\"IS_SUCCESSFUL\"].values\n",
    "\n",
    "X_train, X_test, y_train, y_test = train_test_split(X, y, random_state=78)"
   ]
  },
  {
   "cell_type": "code",
   "execution_count": 16,
   "id": "d3fc10b9",
   "metadata": {},
   "outputs": [],
   "source": [
    " # Create a StandardScaler instances\n",
    "scaler = StandardScaler()\n",
    "\n",
    "# Fit the StandardScaler\n",
    "X_scaler = scaler.fit(X_train)\n",
    "\n",
    "# Scale the data\n",
    "X_train_scaled = X_scaler.transform(X_train)\n",
    "X_test_scaled = X_scaler.transform(X_test)"
   ]
  },
  {
   "cell_type": "code",
   "execution_count": 18,
   "id": "5de888fd",
   "metadata": {},
   "outputs": [
    {
     "name": "stdout",
     "output_type": "stream",
     "text": [
      "Model: \"sequential_1\"\n",
      "_________________________________________________________________\n",
      " Layer (type)                Output Shape              Param #   \n",
      "=================================================================\n",
      " dense (Dense)               (None, 100)               39900     \n",
      "                                                                 \n",
      " dense_1 (Dense)             (None, 30)                3030      \n",
      "                                                                 \n",
      " dense_2 (Dense)             (None, 10)                310       \n",
      "                                                                 \n",
      " dense_3 (Dense)             (None, 1)                 11        \n",
      "                                                                 \n",
      "=================================================================\n",
      "Total params: 43,251\n",
      "Trainable params: 43,251\n",
      "Non-trainable params: 0\n",
      "_________________________________________________________________\n"
     ]
    }
   ],
   "source": [
    "# Define the model - deep neural net\n",
    "num_input_features = len(X_train[0])\n",
    "hidden_nodes_layer1 =  100\n",
    "hidden_nodes_layer2 = 30\n",
    "hidden_nodes_layer3 = 10\n",
    "\n",
    "nn = tf.keras.models.Sequential()\n",
    "\n",
    "# First hidden layer\n",
    "nn.add(\n",
    "    tf.keras.layers.Dense(units=hidden_nodes_layer1, input_dim=num_input_features, activation=\"relu\")\n",
    ")\n",
    "\n",
    "# Second hidden layer\n",
    "nn.add(tf.keras.layers.Dense(units=hidden_nodes_layer2, activation=\"sigmoid\"))\n",
    "\n",
    "# Third hidden layer\n",
    "nn.add(tf.keras.layers.Dense(units=hidden_nodes_layer3, activation=\"sigmoid\"))\n",
    "\n",
    "# Output layer\n",
    "nn.add(tf.keras.layers.Dense(units=1, activation=\"sigmoid\"))\n",
    "\n",
    "# Check the structure of the model\n",
    "nn.summary()"
   ]
  },
  {
   "cell_type": "code",
   "execution_count": 19,
   "id": "4163943d",
   "metadata": {},
   "outputs": [],
   "source": [
    " # Compile model\n",
    "nn.compile(loss=\"binary_crossentropy\", optimizer=\"adam\", metrics=[\"accuracy\"])"
   ]
  },
  {
   "cell_type": "code",
   "execution_count": 20,
   "id": "fb77d264",
   "metadata": {},
   "outputs": [
    {
     "name": "stdout",
     "output_type": "stream",
     "text": [
      "Epoch 1/100\n",
      "804/804 [==============================] - 3s 2ms/step - loss: 0.5073 - accuracy: 0.7686\n",
      "Epoch 2/100\n",
      "804/804 [==============================] - 1s 2ms/step - loss: 0.4470 - accuracy: 0.7935\n",
      "Epoch 3/100\n",
      "804/804 [==============================] - 1s 2ms/step - loss: 0.4369 - accuracy: 0.7948\n",
      "Epoch 4/100\n",
      "804/804 [==============================] - 1s 2ms/step - loss: 0.4312 - accuracy: 0.7985\n",
      "Epoch 5/100\n",
      "804/804 [==============================] - 1s 2ms/step - loss: 0.4280 - accuracy: 0.7985\n",
      "Epoch 6/100\n",
      "804/804 [==============================] - 1s 2ms/step - loss: 0.4256 - accuracy: 0.7987\n",
      "Epoch 7/100\n",
      "804/804 [==============================] - 1s 2ms/step - loss: 0.4238 - accuracy: 0.7995\n",
      "Epoch 8/100\n",
      "804/804 [==============================] - 1s 2ms/step - loss: 0.4223 - accuracy: 0.7988\n",
      "Epoch 9/100\n",
      "804/804 [==============================] - 2s 2ms/step - loss: 0.4212 - accuracy: 0.7997\n",
      "Epoch 10/100\n",
      "804/804 [==============================] - 2s 2ms/step - loss: 0.4201 - accuracy: 0.7998\n",
      "Epoch 11/100\n",
      "804/804 [==============================] - 2s 2ms/step - loss: 0.4192 - accuracy: 0.8008\n",
      "Epoch 12/100\n",
      "804/804 [==============================] - 2s 2ms/step - loss: 0.4182 - accuracy: 0.8010\n",
      "Epoch 13/100\n",
      "804/804 [==============================] - 2s 2ms/step - loss: 0.4172 - accuracy: 0.8012\n",
      "Epoch 14/100\n",
      "804/804 [==============================] - 1s 2ms/step - loss: 0.4169 - accuracy: 0.8004\n",
      "Epoch 15/100\n",
      "804/804 [==============================] - 1s 2ms/step - loss: 0.4159 - accuracy: 0.8025\n",
      "Epoch 16/100\n",
      "804/804 [==============================] - 1s 2ms/step - loss: 0.4153 - accuracy: 0.8009\n",
      "Epoch 17/100\n",
      "804/804 [==============================] - 2s 2ms/step - loss: 0.4148 - accuracy: 0.8017\n",
      "Epoch 18/100\n",
      "804/804 [==============================] - 2s 2ms/step - loss: 0.4150 - accuracy: 0.8033\n",
      "Epoch 19/100\n",
      "804/804 [==============================] - 2s 2ms/step - loss: 0.4138 - accuracy: 0.8026\n",
      "Epoch 20/100\n",
      "804/804 [==============================] - 2s 2ms/step - loss: 0.4126 - accuracy: 0.8033\n",
      "Epoch 21/100\n",
      "804/804 [==============================] - 1s 2ms/step - loss: 0.4125 - accuracy: 0.8033\n",
      "Epoch 22/100\n",
      "804/804 [==============================] - 2s 2ms/step - loss: 0.4123 - accuracy: 0.8032\n",
      "Epoch 23/100\n",
      "804/804 [==============================] - 2s 2ms/step - loss: 0.4112 - accuracy: 0.8035\n",
      "Epoch 24/100\n",
      "804/804 [==============================] - 2s 2ms/step - loss: 0.4109 - accuracy: 0.8038\n",
      "Epoch 25/100\n",
      "804/804 [==============================] - 2s 2ms/step - loss: 0.4110 - accuracy: 0.8041\n",
      "Epoch 26/100\n",
      "804/804 [==============================] - 2s 2ms/step - loss: 0.4105 - accuracy: 0.8042\n",
      "Epoch 27/100\n",
      "804/804 [==============================] - 2s 2ms/step - loss: 0.4094 - accuracy: 0.8054\n",
      "Epoch 28/100\n",
      "804/804 [==============================] - 1s 2ms/step - loss: 0.4098 - accuracy: 0.8043\n",
      "Epoch 29/100\n",
      "804/804 [==============================] - 2s 2ms/step - loss: 0.4091 - accuracy: 0.8052\n",
      "Epoch 30/100\n",
      "804/804 [==============================] - 2s 2ms/step - loss: 0.4091 - accuracy: 0.8043\n",
      "Epoch 31/100\n",
      "804/804 [==============================] - 2s 2ms/step - loss: 0.4084 - accuracy: 0.8056\n",
      "Epoch 32/100\n",
      "804/804 [==============================] - 2s 2ms/step - loss: 0.4084 - accuracy: 0.8056\n",
      "Epoch 33/100\n",
      "804/804 [==============================] - 2s 2ms/step - loss: 0.4085 - accuracy: 0.8052\n",
      "Epoch 34/100\n",
      "804/804 [==============================] - 2s 2ms/step - loss: 0.4081 - accuracy: 0.8057\n",
      "Epoch 35/100\n",
      "804/804 [==============================] - 2s 2ms/step - loss: 0.4079 - accuracy: 0.8066\n",
      "Epoch 36/100\n",
      "804/804 [==============================] - 1s 2ms/step - loss: 0.4071 - accuracy: 0.8059\n",
      "Epoch 37/100\n",
      "804/804 [==============================] - 1s 2ms/step - loss: 0.4072 - accuracy: 0.8064\n",
      "Epoch 38/100\n",
      "804/804 [==============================] - 2s 2ms/step - loss: 0.4068 - accuracy: 0.8062\n",
      "Epoch 39/100\n",
      "804/804 [==============================] - 2s 2ms/step - loss: 0.4065 - accuracy: 0.8069\n",
      "Epoch 40/100\n",
      "804/804 [==============================] - 2s 2ms/step - loss: 0.4064 - accuracy: 0.8065\n",
      "Epoch 41/100\n",
      "804/804 [==============================] - 1s 2ms/step - loss: 0.4061 - accuracy: 0.8058\n",
      "Epoch 42/100\n",
      "804/804 [==============================] - 1s 2ms/step - loss: 0.4062 - accuracy: 0.8071\n",
      "Epoch 43/100\n",
      "804/804 [==============================] - 1s 2ms/step - loss: 0.4060 - accuracy: 0.8063\n",
      "Epoch 44/100\n",
      "804/804 [==============================] - 1s 2ms/step - loss: 0.4060 - accuracy: 0.8068\n",
      "Epoch 45/100\n",
      "804/804 [==============================] - 1s 2ms/step - loss: 0.4056 - accuracy: 0.8070\n",
      "Epoch 46/100\n",
      "804/804 [==============================] - 1s 2ms/step - loss: 0.4050 - accuracy: 0.8070\n",
      "Epoch 47/100\n",
      "804/804 [==============================] - 2s 2ms/step - loss: 0.4049 - accuracy: 0.8082\n",
      "Epoch 48/100\n",
      "804/804 [==============================] - 1s 2ms/step - loss: 0.4051 - accuracy: 0.8064\n",
      "Epoch 49/100\n",
      "804/804 [==============================] - 1s 2ms/step - loss: 0.4048 - accuracy: 0.8066\n",
      "Epoch 50/100\n",
      "804/804 [==============================] - 1s 2ms/step - loss: 0.4050 - accuracy: 0.8071\n",
      "Epoch 51/100\n",
      "804/804 [==============================] - 2s 2ms/step - loss: 0.4049 - accuracy: 0.8067\n",
      "Epoch 52/100\n",
      "804/804 [==============================] - 2s 2ms/step - loss: 0.4043 - accuracy: 0.8071\n",
      "Epoch 53/100\n",
      "804/804 [==============================] - 2s 2ms/step - loss: 0.4043 - accuracy: 0.8073\n",
      "Epoch 54/100\n",
      "804/804 [==============================] - 2s 2ms/step - loss: 0.4040 - accuracy: 0.8072\n",
      "Epoch 55/100\n",
      "804/804 [==============================] - 1s 2ms/step - loss: 0.4037 - accuracy: 0.8074\n",
      "Epoch 56/100\n",
      "804/804 [==============================] - 2s 2ms/step - loss: 0.4035 - accuracy: 0.8078\n",
      "Epoch 57/100\n",
      "804/804 [==============================] - 2s 2ms/step - loss: 0.4035 - accuracy: 0.8077\n",
      "Epoch 58/100\n",
      "804/804 [==============================] - 1s 2ms/step - loss: 0.4034 - accuracy: 0.8078\n",
      "Epoch 59/100\n",
      "804/804 [==============================] - 1s 2ms/step - loss: 0.4038 - accuracy: 0.8073\n",
      "Epoch 60/100\n",
      "804/804 [==============================] - 1s 2ms/step - loss: 0.4031 - accuracy: 0.8067\n",
      "Epoch 61/100\n",
      "804/804 [==============================] - 2s 2ms/step - loss: 0.4037 - accuracy: 0.8073\n",
      "Epoch 62/100\n",
      "804/804 [==============================] - 2s 2ms/step - loss: 0.4032 - accuracy: 0.8077\n",
      "Epoch 63/100\n",
      "804/804 [==============================] - 1s 2ms/step - loss: 0.4032 - accuracy: 0.8083\n",
      "Epoch 64/100\n",
      "804/804 [==============================] - 1s 2ms/step - loss: 0.4030 - accuracy: 0.8082\n",
      "Epoch 65/100\n",
      "804/804 [==============================] - 1s 2ms/step - loss: 0.4026 - accuracy: 0.8078\n",
      "Epoch 66/100\n",
      "804/804 [==============================] - 1s 2ms/step - loss: 0.4027 - accuracy: 0.8079\n",
      "Epoch 67/100\n",
      "804/804 [==============================] - 2s 2ms/step - loss: 0.4025 - accuracy: 0.8075\n",
      "Epoch 68/100\n",
      "804/804 [==============================] - 1s 2ms/step - loss: 0.4026 - accuracy: 0.8082\n",
      "Epoch 69/100\n",
      "804/804 [==============================] - 1s 2ms/step - loss: 0.4022 - accuracy: 0.8083\n",
      "Epoch 70/100\n",
      "804/804 [==============================] - 2s 2ms/step - loss: 0.4024 - accuracy: 0.8085\n",
      "Epoch 71/100\n",
      "804/804 [==============================] - 1s 2ms/step - loss: 0.4022 - accuracy: 0.8073\n",
      "Epoch 72/100\n",
      "804/804 [==============================] - 1s 2ms/step - loss: 0.4024 - accuracy: 0.8080\n",
      "Epoch 73/100\n",
      "804/804 [==============================] - 1s 2ms/step - loss: 0.4024 - accuracy: 0.8083\n",
      "Epoch 74/100\n",
      "804/804 [==============================] - 1s 2ms/step - loss: 0.4021 - accuracy: 0.8084\n",
      "Epoch 75/100\n",
      "804/804 [==============================] - 1s 2ms/step - loss: 0.4014 - accuracy: 0.8080\n",
      "Epoch 76/100\n",
      "804/804 [==============================] - 1s 2ms/step - loss: 0.4013 - accuracy: 0.8078\n",
      "Epoch 77/100\n",
      "804/804 [==============================] - 1s 2ms/step - loss: 0.4014 - accuracy: 0.8086\n",
      "Epoch 78/100\n",
      "804/804 [==============================] - 1s 2ms/step - loss: 0.4018 - accuracy: 0.8083\n",
      "Epoch 79/100\n",
      "804/804 [==============================] - 1s 2ms/step - loss: 0.4014 - accuracy: 0.8087\n",
      "Epoch 80/100\n",
      "804/804 [==============================] - 1s 2ms/step - loss: 0.4021 - accuracy: 0.8081\n",
      "Epoch 81/100\n"
     ]
    },
    {
     "name": "stdout",
     "output_type": "stream",
     "text": [
      "804/804 [==============================] - 1s 2ms/step - loss: 0.4021 - accuracy: 0.8083\n",
      "Epoch 82/100\n",
      "804/804 [==============================] - 1s 2ms/step - loss: 0.4017 - accuracy: 0.8085\n",
      "Epoch 83/100\n",
      "804/804 [==============================] - 1s 2ms/step - loss: 0.4016 - accuracy: 0.8084\n",
      "Epoch 84/100\n",
      "804/804 [==============================] - 1s 2ms/step - loss: 0.4012 - accuracy: 0.8088\n",
      "Epoch 85/100\n",
      "804/804 [==============================] - 1s 2ms/step - loss: 0.4012 - accuracy: 0.8087\n",
      "Epoch 86/100\n",
      "804/804 [==============================] - 1s 2ms/step - loss: 0.4013 - accuracy: 0.8084\n",
      "Epoch 87/100\n",
      "804/804 [==============================] - 1s 2ms/step - loss: 0.4011 - accuracy: 0.8084\n",
      "Epoch 88/100\n",
      "804/804 [==============================] - 1s 2ms/step - loss: 0.4011 - accuracy: 0.8077\n",
      "Epoch 89/100\n",
      "804/804 [==============================] - 1s 2ms/step - loss: 0.4011 - accuracy: 0.8082\n",
      "Epoch 90/100\n",
      "804/804 [==============================] - 2s 2ms/step - loss: 0.4010 - accuracy: 0.8085\n",
      "Epoch 91/100\n",
      "804/804 [==============================] - 2s 2ms/step - loss: 0.4015 - accuracy: 0.8086\n",
      "Epoch 92/100\n",
      "804/804 [==============================] - 2s 2ms/step - loss: 0.4011 - accuracy: 0.8086\n",
      "Epoch 93/100\n",
      "804/804 [==============================] - 2s 2ms/step - loss: 0.4008 - accuracy: 0.8091\n",
      "Epoch 94/100\n",
      "804/804 [==============================] - 2s 2ms/step - loss: 0.4009 - accuracy: 0.8090\n",
      "Epoch 95/100\n",
      "804/804 [==============================] - 1s 2ms/step - loss: 0.4008 - accuracy: 0.8093\n",
      "Epoch 96/100\n",
      "804/804 [==============================] - 1s 2ms/step - loss: 0.4012 - accuracy: 0.8087\n",
      "Epoch 97/100\n",
      "804/804 [==============================] - 1s 2ms/step - loss: 0.4014 - accuracy: 0.8093\n",
      "Epoch 98/100\n",
      "804/804 [==============================] - 1s 2ms/step - loss: 0.4012 - accuracy: 0.8086\n",
      "Epoch 99/100\n",
      "804/804 [==============================] - 1s 2ms/step - loss: 0.4013 - accuracy: 0.8089\n",
      "Epoch 100/100\n",
      "804/804 [==============================] - 1s 2ms/step - loss: 0.4011 - accuracy: 0.8095\n"
     ]
    }
   ],
   "source": [
    " # Train model\n",
    "fit_model = nn.fit(X_train_scaled,y_train,epochs=100)"
   ]
  },
  {
   "cell_type": "code",
   "execution_count": 21,
   "id": "c6c81fcc",
   "metadata": {},
   "outputs": [
    {
     "name": "stdout",
     "output_type": "stream",
     "text": [
      "268/268 - 0s - loss: 0.4468 - accuracy: 0.7889 - 440ms/epoch - 2ms/step\n",
      "Loss: 0.4467553496360779, Accuracy: 0.7889212965965271\n"
     ]
    }
   ],
   "source": [
    " # Evaluate model using test data\n",
    "model_loss, model_accuracy = nn.evaluate(X_test_scaled,y_test,verbose=2)\n",
    "print(f\"Loss: {model_loss}, Accuracy: {model_accuracy}\")"
   ]
  },
  {
   "cell_type": "code",
   "execution_count": 22,
   "id": "0b2b1807",
   "metadata": {},
   "outputs": [],
   "source": [
    "# Export our model to HDF5 file\n",
    "nn.save(\"AlphabetSoupCharity_Optimization.h5\")"
   ]
  },
  {
   "cell_type": "code",
   "execution_count": null,
   "id": "857d930a",
   "metadata": {},
   "outputs": [],
   "source": []
  }
 ],
 "metadata": {
  "kernelspec": {
   "display_name": "Python 3 (ipykernel)",
   "language": "python",
   "name": "python3"
  },
  "language_info": {
   "codemirror_mode": {
    "name": "ipython",
    "version": 3
   },
   "file_extension": ".py",
   "mimetype": "text/x-python",
   "name": "python",
   "nbconvert_exporter": "python",
   "pygments_lexer": "ipython3",
   "version": "3.9.13"
  }
 },
 "nbformat": 4,
 "nbformat_minor": 5
}
